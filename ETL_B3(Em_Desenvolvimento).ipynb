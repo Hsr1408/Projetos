{
 "cells": [
  {
   "attachments": {},
   "cell_type": "markdown",
   "metadata": {},
   "source": [
    "#### Importando informações da Bolsa de Valores #####"
   ]
  },
  {
   "attachments": {},
   "cell_type": "markdown",
   "metadata": {},
   "source": [
    "Desenvolvido por: Higor Silva Rodrigues\n",
    " | Versão: 1.0.0"
   ]
  },
  {
   "attachments": {},
   "cell_type": "markdown",
   "metadata": {},
   "source": [
    "Carregando Bibliotecas"
   ]
  },
  {
   "cell_type": "code",
   "execution_count": null,
   "metadata": {},
   "outputs": [],
   "source": [
    "import yfinance as yf\n",
    "import pandas as pd\n",
    "import investpy as inv\n",
    "from datetime import datetime"
   ]
  },
  {
   "attachments": {},
   "cell_type": "markdown",
   "metadata": {},
   "source": [
    "Carregando Ações da B3"
   ]
  },
  {
   "cell_type": "code",
   "execution_count": null,
   "metadata": {},
   "outputs": [],
   "source": [
    "acoes_br = inv.stocks.get_stocks(country='brazil')"
   ]
  },
  {
   "cell_type": "code",
   "execution_count": null,
   "metadata": {},
   "outputs": [],
   "source": [
    "acoes_br.to_csv('Acoes_B3_Brasil.csv',encoding=\"utf-8\",sep=';')"
   ]
  },
  {
   "attachments": {},
   "cell_type": "markdown",
   "metadata": {},
   "source": [
    "Criando carteira com Ações da B3"
   ]
  },
  {
   "cell_type": "code",
   "execution_count": null,
   "metadata": {},
   "outputs": [],
   "source": [
    "carteira_geral =[]\n",
    "for a in acoes_br['symbol']:\n",
    "    if len(a)<=5:\n",
    "        carteira_geral.append(a+'.SA')"
   ]
  },
  {
   "attachments": {},
   "cell_type": "markdown",
   "metadata": {},
   "source": [
    "Baixando informações das Ações"
   ]
  },
  {
   "cell_type": "code",
   "execution_count": null,
   "metadata": {},
   "outputs": [],
   "source": [
    "dt_inicio ='2010-01-01'\n",
    "dt_fim = datetime.now().strftime('%Y-%m-%d')\n",
    "colunas_df = ['Date','Ticker','Adj Close','Close','High','Low','Open','Volume']\n",
    "#colunas_df = ['Date','Ticker','Adj Close','Close','High','Low','Open','Dividends','Stock Splits','Volume']\n",
    "\n",
    "for a in carteira_geral:\n",
    "\n",
    "        info_acoes = yf.download(tickers=a,start=dt_inicio,end=dt_fim)\n",
    "        info_acoes['Ticker'] = a \n",
    "        info_acoes.index.name = 'Data'\n",
    "\n",
    "        # Convertendo tipos\n",
    "        info_acoes['Open'] = round( info_acoes['Open'].astype('float64'),2)\n",
    "        info_acoes['Open'] = info_acoes['Open'].apply(lambda x: str(x).replace(\".\",\",\"))\n",
    "        \n",
    "        info_acoes['High'] = round( info_acoes['High'].astype('float64'),2)\n",
    "        info_acoes['High'] = info_acoes['High'].apply(lambda x: str(x).replace(\".\",\",\"))\n",
    "        \n",
    "        info_acoes['Low'] = round( info_acoes['Low'].astype('float64'),2)\n",
    "        info_acoes['Low'] = info_acoes['Low'].apply(lambda x: str(x).replace(\".\",\",\"))\n",
    "        \n",
    "        info_acoes['Close'] = round( info_acoes['Close'].astype('float64'),2)\n",
    "        info_acoes['Close'] = info_acoes['Close'].apply(lambda x: str(x).replace(\".\",\",\"))\n",
    "        \n",
    "        info_acoes['Adj Close'] = round( info_acoes['Adj Close'].astype('float64'),2)\n",
    "        info_acoes['Adj Close'] = info_acoes['Adj Close'].apply(lambda x: str(x).replace(\".\",\",\"))\n",
    "        \n",
    "        info_acoes['Volume'] = round( info_acoes['Volume'].astype('float64'),2)\n",
    "        info_acoes['Volume'] = info_acoes['Volume'].apply(lambda x: str(x).replace(\".\",\",\"))\n",
    "        \n",
    "        info_acoes.to_numpy()\n",
    "\n",
    "        info_acoes.to_csv(f'{a}.csv',encoding=\"utf-8\",sep=';')\n"
   ]
  }
 ],
 "metadata": {
  "kernelspec": {
   "display_name": "Python 3",
   "language": "python",
   "name": "python3"
  },
  "language_info": {
   "codemirror_mode": {
    "name": "ipython",
    "version": 3
   },
   "file_extension": ".py",
   "mimetype": "text/x-python",
   "name": "python",
   "nbconvert_exporter": "python",
   "pygments_lexer": "ipython3",
   "version": "3.9.12"
  },
  "orig_nbformat": 4,
  "vscode": {
   "interpreter": {
    "hash": "b10c1c5cd08e7a8bab55f20d2e7906ea09875da224fc0c4cf750230377e3ec4c"
   }
  }
 },
 "nbformat": 4,
 "nbformat_minor": 2
}
